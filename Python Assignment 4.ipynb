{
 "cells": [
  {
   "cell_type": "markdown",
   "metadata": {},
   "source": [
    "1.1 Write a Python Program(with class concepts) to find the area of the triangle using the below\n",
    "formula.\n",
    "area = (s*(s-a)*(s-b)*(s-c)) ** 0.5\n",
    "        "
   ]
  },
  {
   "cell_type": "code",
   "execution_count": null,
   "metadata": {},
   "outputs": [],
   "source": [
    "class area:\n",
    "    def __init__(self,a,b,c):\n",
    "        s=(a+b+c)/2\n",
    "        print((s*(s-a)*(s-b)*(s-c)) ** 0.5)\n",
    "triangle1=area(2,3,4)\n",
    "triangle2=area(3,4,5)\n",
    "    "
   ]
  },
  {
   "cell_type": "markdown",
   "metadata": {},
   "source": [
    "Function to take the length of the sides of triangle from user should be defined in the parent\n",
    "class and function to calculate the area should be defined in subclass."
   ]
  },
  {
   "cell_type": "code",
   "execution_count": 59,
   "metadata": {},
   "outputs": [
    {
     "name": "stdout",
     "output_type": "stream",
     "text": [
      "3\n",
      "4\n",
      "5\n",
      "6.0\n"
     ]
    }
   ],
   "source": [
    "class take:\n",
    "    def __init__(self):\n",
    "        self.a=int(input())\n",
    "        self.b=int(input())\n",
    "        self.c=int(input())\n",
    "        \n",
    "class area(take):\n",
    "    def __init__(self):\n",
    "        super(area, self).__init__()\n",
    "        s=(self.a+self.b+self.c)/2\n",
    "        print((s*(s-self.a)*(s-self.b)*(s-self.c)) ** 0.5)\n",
    "triangle1=area()"
   ]
  },
  {
   "cell_type": "markdown",
   "metadata": {},
   "source": [
    "1.2 Write a function filter_long_words() that takes a list of words and an integer n and returns\n",
    "the list of words that are longer than n."
   ]
  },
  {
   "cell_type": "code",
   "execution_count": 74,
   "metadata": {
    "scrolled": true
   },
   "outputs": [
    {
     "name": "stdout",
     "output_type": "stream",
     "text": [
      "Enter five Words\n",
      "wert\n",
      "werty\n",
      "w\n",
      "er\n",
      "3\n",
      "Enter an integer to filter long words3\n",
      "Long Words are ['wert', 'werty']\n"
     ]
    }
   ],
   "source": [
    "def filter_long_words(words_list,n):\n",
    "    return list(filter(lambda x:len(x)>n ,words_list))\n",
    "print(\"Enter five Words\")\n",
    "l=[input() for i in range(1,6)]\n",
    "n=int(input(\"Enter an integer to filter long words\"))\n",
    "l2=filter_long_words(l,n)\n",
    "print(\"Long Words are\",l2)"
   ]
  },
  {
   "cell_type": "markdown",
   "metadata": {},
   "source": [
    "2.1 Write a Python program using function concept that maps list of words into a list of integers\n",
    "representing the lengths of the corresponding words.\n",
    "Hint: If a list [ ab,cde,erty] is passed on to the python function output should come as [2,3,4]\n",
    "Here 2,3 and 4 are the lengths of the words in the list."
   ]
  },
  {
   "cell_type": "code",
   "execution_count": 77,
   "metadata": {},
   "outputs": [
    {
     "name": "stdout",
     "output_type": "stream",
     "text": [
      "Enter five Words\n",
      "we\n",
      "ert\n",
      "etffd\n",
      "4rf\n",
      "errvr\n",
      "list of length of words is :  [2, 3, 5, 3, 5]\n"
     ]
    }
   ],
   "source": [
    "def map_of_length(l):\n",
    "    l2=[]\n",
    "    for i in l:\n",
    "        l2.append(len(i))\n",
    "    return l2\n",
    "print(\"Enter five Words\")\n",
    "l=[input() for i in range(1,6)]\n",
    "l2=map_of_length(l)\n",
    "print(\"list of length of words is : \",l2)"
   ]
  },
  {
   "cell_type": "markdown",
   "metadata": {},
   "source": [
    "2.2 Write a Python function which takes a character (i.e. a string of length 1) and returns True if\n",
    "it is a vowel, False otherwise."
   ]
  },
  {
   "cell_type": "code",
   "execution_count": 100,
   "metadata": {
    "scrolled": true
   },
   "outputs": [
    {
     "name": "stdout",
     "output_type": "stream",
     "text": [
      "False\n"
     ]
    }
   ],
   "source": [
    "def check_vowel(char):\n",
    "    if char in 'aeiou' or char in 'AEIOU':\n",
    "        return True\n",
    "    else:\n",
    "        return False\n",
    "check=check_vowel('p')\n",
    "print(check)"
   ]
  }
 ],
 "metadata": {
  "kernelspec": {
   "display_name": "Python 3",
   "language": "python",
   "name": "python3"
  },
  "language_info": {
   "codemirror_mode": {
    "name": "ipython",
    "version": 3
   },
   "file_extension": ".py",
   "mimetype": "text/x-python",
   "name": "python",
   "nbconvert_exporter": "python",
   "pygments_lexer": "ipython3",
   "version": "3.8.3"
  }
 },
 "nbformat": 4,
 "nbformat_minor": 4
}
